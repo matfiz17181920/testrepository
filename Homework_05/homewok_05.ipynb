{
 "cells": [
  {
   "cell_type": "markdown",
   "metadata": {},
   "source": [
    "Дан файл csv с данными по просмотрам фильмов и пользовательским оценкам фильмов.\n",
    "Необходимо найти:\n",
    "1.\tОбщее число оценок в файле\n",
    "2.\tОбщее количество пользователей, поставивших оценки\n",
    "3.\tОбщее количество оцененных фильмов\n",
    "4.\tID самого активного пользователя\n",
    "5.\tФильм, собравший наибольшее количество оценок\n",
    "\n",
    "\n",
    "Анализ задачи:\n",
    "Загружаем csv файл.\n",
    "С использованием встроенных функций библиотеки pandas работаем с колонками таблицы, анализируем их и находим необходимые величины, указанные в пунктах задания.\n",
    "Общее число оценок - это число колонок в файле.\n",
    "Количество пользователей - число различных id в колонке пользователей. Его можно определить как длину множества, в которое загружены все id пользователей."
   ]
  },
  {
   "cell_type": "markdown",
   "metadata": {},
   "source": [
    "Загружаем csv файл:"
   ]
  },
  {
   "cell_type": "code",
   "execution_count": 19,
   "metadata": {},
   "outputs": [],
   "source": [
    "import pandas as pd\n",
    "import numpy as np\n",
    "\n",
    "file_name = 'ratings_small.csv' # source file\n",
    "data_table = pd.read_csv(\"ratings_small.csv\")"
   ]
  },
  {
   "cell_type": "markdown",
   "metadata": {},
   "source": [
    "1.\tОбщее число оценок в файле - это по факту число строк файла"
   ]
  },
  {
   "cell_type": "code",
   "execution_count": 20,
   "metadata": {},
   "outputs": [
    {
     "name": "stdout",
     "output_type": "stream",
     "text": [
      "Marks number: 100004\n"
     ]
    }
   ],
   "source": [
    "marks_number = data_table.last_valid_index() + 1\n",
    "print(f\"Marks number: {marks_number}\")"
   ]
  },
  {
   "cell_type": "markdown",
   "metadata": {},
   "source": [
    "2.\tОбщее количество пользователей, поставивших оценки - число различных id пользователей."
   ]
  },
  {
   "cell_type": "code",
   "execution_count": 21,
   "metadata": {},
   "outputs": [
    {
     "name": "stdout",
     "output_type": "stream",
     "text": [
      "Users number: 671\n"
     ]
    }
   ],
   "source": [
    "users_number = data_table['userId'].nunique()\n",
    "print(f\"Users number: {users_number}\")"
   ]
  },
  {
   "cell_type": "markdown",
   "metadata": {},
   "source": [
    "3.\tОбщее количество оцененных фильмов - число различных идентификаторов фильмов."
   ]
  },
  {
   "cell_type": "code",
   "execution_count": 22,
   "metadata": {},
   "outputs": [
    {
     "name": "stdout",
     "output_type": "stream",
     "text": [
      "Films number: 9066\n"
     ]
    }
   ],
   "source": [
    "films_number = data_table['movieId'].nunique()\n",
    "print(f\"Films number: {films_number}\")"
   ]
  },
  {
   "cell_type": "markdown",
   "metadata": {},
   "source": [
    "4.\tID самого активного пользователя. \n",
    "Самый активный пользователь наиболее часто упоминается в колонке с id пользователей.\n",
    "Поэтому можно применить метод value_counts() к данной колонке, и он даст объект series, который покажет для каждого элемента колонки  количество вхождений этого элемента.\n",
    "Далее можно отсортировать series по значениям количества вхождений.\n",
    "Самое большое значение количества вхождений будет стоять рядом с ID самого активного пользователя."
   ]
  },
  {
   "cell_type": "code",
   "execution_count": 23,
   "metadata": {},
   "outputs": [
    {
     "name": "stdout",
     "output_type": "stream",
     "text": [
      "userId\n",
      "1        20\n",
      "657      20\n",
      "651      20\n",
      "35       20\n",
      "76       20\n",
      "       ... \n",
      "73     1610\n",
      "15     1700\n",
      "624    1735\n",
      "564    1868\n",
      "547    2391\n",
      "Name: count, Length: 671, dtype: int64\n",
      "The most active user: 547\n"
     ]
    }
   ],
   "source": [
    "usr = data_table['userId'].value_counts()\n",
    "usr_sorted = usr.sort_values()\n",
    "print(usr_sorted)\n",
    "best_user = usr_sorted.index[-1]\n",
    "print(\"The most active user:\", best_user)"
   ]
  },
  {
   "cell_type": "markdown",
   "metadata": {},
   "source": [
    "5.\tФильм, собравший наибольшее количество оценок.\n",
    "Наиболее активно оцениваемый фильм наиболее часто упоминается в колонке с id фильмов.\n",
    "Поэтому можно применить метод value_counts() к данной колонке, и он даст объект series, который покажет для каждого элемента колонки  количество вхождений этого элемента.\n",
    "Далее можно отсортировать series по значениям количества вхождений.\n",
    "Самое большое значение количества вхождений будет стоять рядом с ID самого активно оцениваемого фильма."
   ]
  },
  {
   "cell_type": "code",
   "execution_count": 25,
   "metadata": {},
   "outputs": [
    {
     "name": "stdout",
     "output_type": "stream",
     "text": [
      "movieId\n",
      "6425        1\n",
      "147845      1\n",
      "146682      1\n",
      "143657      1\n",
      "143377      1\n",
      "         ... \n",
      "260       291\n",
      "593       304\n",
      "318       311\n",
      "296       324\n",
      "356       341\n",
      "Name: count, Length: 9066, dtype: int64\n",
      "The most rated film: 356\n"
     ]
    }
   ],
   "source": [
    "flm = data_table['movieId'].value_counts()\n",
    "flm_sorted = flm.sort_values()\n",
    "print(flm_sorted)\n",
    "best_film = flm_sorted.index[-1]\n",
    "print(\"The most rated film:\", best_film)"
   ]
  },
  {
   "cell_type": "markdown",
   "metadata": {},
   "source": [
    "Итак, нами был проделан анализ таблицы с оценками фильмов пользователями.\n",
    "\n",
    "Выводы:\n",
    "1. Общее число оценок в файле составило 100 004.\n",
    "2.\tОбщее количество пользователей, поставивших оценки - 671.\n",
    "3.\tОбщее количество оцененных фильмов - 9066. \n",
    "4.\tID самого активного пользователя - 547.\n",
    "5.\tФильм, собравший наибольшее количество оценок - 356."
   ]
  }
 ],
 "metadata": {
  "kernelspec": {
   "display_name": "base",
   "language": "python",
   "name": "python3"
  },
  "language_info": {
   "codemirror_mode": {
    "name": "ipython",
    "version": 3
   },
   "file_extension": ".py",
   "mimetype": "text/x-python",
   "name": "python",
   "nbconvert_exporter": "python",
   "pygments_lexer": "ipython3",
   "version": "3.12.7"
  }
 },
 "nbformat": 4,
 "nbformat_minor": 2
}
